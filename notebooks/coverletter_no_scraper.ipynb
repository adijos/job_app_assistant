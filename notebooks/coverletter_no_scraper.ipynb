{
 "cells": [
  {
   "cell_type": "code",
   "execution_count": 1,
   "id": "85eaf535-4d17-4842-9a4e-64eb1b516b2f",
   "metadata": {
    "scrolled": true
   },
   "outputs": [
    {
     "name": "stdout",
     "output_type": "stream",
     "text": [
      "/Users/adityajoshi/git_repos/job_app_assistant/notebooks\n",
      "/Users/adityajoshi/git_repos/job_app_assistant\n"
     ]
    }
   ],
   "source": [
    "### Setting project directory\n",
    "import os\n",
    "import sys\n",
    "project_home = '//Users/adityajoshi/git_repos/job_app_assistant'\n",
    "sys.path.append(project_home)\n",
    "current_directory = os.getcwd()\n",
    "print(current_directory)\n",
    "parent_directory = os.path.dirname(current_directory)\n",
    "os.chdir(parent_directory)\n",
    "print(os.getcwd())\n",
    "\n",
    "import coverletter_builder as clb"
   ]
  },
  {
   "cell_type": "code",
   "execution_count": 2,
   "id": "7ad760af-7220-458e-a132-9f420e513c9e",
   "metadata": {},
   "outputs": [],
   "source": [
    "examples = clb.load_examples()\n",
    "jd = clb.load_jd()"
   ]
  },
  {
   "cell_type": "code",
   "execution_count": 3,
   "id": "4d995ce2-adc7-4b11-bedf-11e879a40401",
   "metadata": {},
   "outputs": [],
   "source": [
    "cover_letter = clb.generate_coverletter(jd, examples=examples)"
   ]
  },
  {
   "cell_type": "code",
   "execution_count": 4,
   "id": "e94442c7-338f-40fa-a0c4-66cb6bd16b39",
   "metadata": {},
   "outputs": [
    {
     "name": "stdout",
     "output_type": "stream",
     "text": [
      "Dear Hiring Team at Shopify,\n",
      "\n",
      "I am extremely interested in the Senior Product Data Scientist role at your esteemed organization. Equipped with significant experience in product analytics and a profound understanding of data science methods, I believe my skills and knowledge align seamlessly with your job requirements.\n",
      "\n",
      "In my stint at Klarity Health, I was given the responsibility of creating an end-to-end data pipeline, harnessing user information from diverse sources utilizing tools like Snowflake and Airbyte. The deployment of these strategies led to substantial advancements in user experience and product functionality. My contributions at Bookbub involved the successful launch of an ecommerce platform, achieved mainly through robust analytics and infrastructure.\n",
      "\n",
      "Shopify's need for a comprehensive understanding of data analysis concepts like A/B testing, deep dives, segmentation, and SQL aligns perfectly with my expertise. My proficiency in Python and my innate curiosity to delve into data mysteries will equip Shopify with actionable insights to explore new areas of growth.\n",
      "\n",
      "As an adept communicator, I am capable of simplifying complex data analysis results to a diverse audience. I am also familiar with various Business Intelligence platforms and tools, which I believe would be beneficial in this role.\n",
      "\n",
      "The prospect of joining Shopify's diverse and performance-driven team excites me. I look forward to contributing to your data-driven approach and playing a pivotal role in influencing global entrepreneurship. I am thrilled to discuss how my competencies can further support Shopify’s mission.\n",
      "\n",
      "Sincerely,\n",
      "Aditya Joshi\n"
     ]
    }
   ],
   "source": [
    "print(cover_letter)"
   ]
  }
 ],
 "metadata": {
  "kernelspec": {
   "display_name": "Python 3 (ipykernel)",
   "language": "python",
   "name": "python3"
  },
  "language_info": {
   "codemirror_mode": {
    "name": "ipython",
    "version": 3
   },
   "file_extension": ".py",
   "mimetype": "text/x-python",
   "name": "python",
   "nbconvert_exporter": "python",
   "pygments_lexer": "ipython3",
   "version": "3.11.3"
  }
 },
 "nbformat": 4,
 "nbformat_minor": 5
}
